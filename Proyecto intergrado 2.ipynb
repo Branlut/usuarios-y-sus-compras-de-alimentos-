{
 "cells": [
  {
   "cell_type": "markdown",
   "metadata": {},
   "source": [
    "# Objetivo\n",
    "\n",
    "La empresa de productos alimenticios en la cual trabajamos nos pidio realizar una investigacion del comportamiento de los usuarios para ello realizaremos\n",
    "\n",
    "-Preparar los datos\n",
    "\n",
    "-Realizar analisis exploratorio\n",
    "\n",
    "-Estudio del embudo de ventas\n",
    "\n",
    "-Una prueba A/A/B (el cual consiste en 2 grupos de controlo y 1 de prueba)"
   ]
  },
  {
   "cell_type": "markdown",
   "metadata": {},
   "source": [
    "## 1 Abrir archivo"
   ]
  },
  {
   "cell_type": "code",
   "execution_count": 1,
   "metadata": {},
   "outputs": [],
   "source": [
    "import datetime as dt\n",
    "import math as mth\n",
    "\n",
    "import pandas as pd\n",
    "import numpy as np\n",
    "from scipy import stats as st\n",
    "\n",
    "import matplotlib.pyplot as plt"
   ]
  },
  {
   "cell_type": "code",
   "execution_count": 2,
   "metadata": {},
   "outputs": [],
   "source": [
    "df_data = pd.read_csv('/datasets/logs_exp_us.csv', sep='\\t')"
   ]
  },
  {
   "cell_type": "code",
   "execution_count": 3,
   "metadata": {},
   "outputs": [
    {
     "name": "stdout",
     "output_type": "stream",
     "text": [
      "                      EventName         DeviceIDHash  EventTimestamp  ExpId\n",
      "0              MainScreenAppear  4575588528974610257      1564029816    246\n",
      "1              MainScreenAppear  7416695313311560658      1564053102    246\n",
      "2       PaymentScreenSuccessful  3518123091307005509      1564054127    248\n",
      "3              CartScreenAppear  3518123091307005509      1564054127    248\n",
      "4       PaymentScreenSuccessful  6217807653094995999      1564055322    248\n",
      "...                         ...                  ...             ...    ...\n",
      "244121         MainScreenAppear  4599628364049201812      1565212345    247\n",
      "244122         MainScreenAppear  5849806612437486590      1565212439    246\n",
      "244123         MainScreenAppear  5746969938801999050      1565212483    246\n",
      "244124         MainScreenAppear  5746969938801999050      1565212498    246\n",
      "244125       OffersScreenAppear  5746969938801999050      1565212517    246\n",
      "\n",
      "[244126 rows x 4 columns]\n"
     ]
    }
   ],
   "source": [
    "print(df_data)"
   ]
  },
  {
   "cell_type": "markdown",
   "metadata": {},
   "source": [
    "## 2 Preparar datos apara analisis\n"
   ]
  },
  {
   "cell_type": "code",
   "execution_count": 4,
   "metadata": {},
   "outputs": [],
   "source": [
    "df_data.columns = ['event','device','time','expid']"
   ]
  },
  {
   "cell_type": "code",
   "execution_count": 5,
   "metadata": {},
   "outputs": [
    {
     "name": "stdout",
     "output_type": "stream",
     "text": [
      "                          event               device        time  expid\n",
      "0              MainScreenAppear  4575588528974610257  1564029816    246\n",
      "1              MainScreenAppear  7416695313311560658  1564053102    246\n",
      "2       PaymentScreenSuccessful  3518123091307005509  1564054127    248\n",
      "3              CartScreenAppear  3518123091307005509  1564054127    248\n",
      "4       PaymentScreenSuccessful  6217807653094995999  1564055322    248\n",
      "...                         ...                  ...         ...    ...\n",
      "244121         MainScreenAppear  4599628364049201812  1565212345    247\n",
      "244122         MainScreenAppear  5849806612437486590  1565212439    246\n",
      "244123         MainScreenAppear  5746969938801999050  1565212483    246\n",
      "244124         MainScreenAppear  5746969938801999050  1565212498    246\n",
      "244125       OffersScreenAppear  5746969938801999050  1565212517    246\n",
      "\n",
      "[244126 rows x 4 columns]\n"
     ]
    }
   ],
   "source": [
    "print(df_data)"
   ]
  },
  {
   "cell_type": "code",
   "execution_count": 6,
   "metadata": {},
   "outputs": [
    {
     "name": "stdout",
     "output_type": "stream",
     "text": [
      "<class 'pandas.core.frame.DataFrame'>\n",
      "RangeIndex: 244126 entries, 0 to 244125\n",
      "Data columns (total 4 columns):\n",
      " #   Column  Non-Null Count   Dtype \n",
      "---  ------  --------------   ----- \n",
      " 0   event   244126 non-null  object\n",
      " 1   device  244126 non-null  int64 \n",
      " 2   time    244126 non-null  int64 \n",
      " 3   expid   244126 non-null  int64 \n",
      "dtypes: int64(3), object(1)\n",
      "memory usage: 7.5+ MB\n"
     ]
    }
   ],
   "source": [
    "df_data.info()"
   ]
  },
  {
   "cell_type": "code",
   "execution_count": 7,
   "metadata": {},
   "outputs": [
    {
     "name": "stdout",
     "output_type": "stream",
     "text": [
      "event     0\n",
      "device    0\n",
      "time      0\n",
      "expid     0\n",
      "dtype: int64\n"
     ]
    }
   ],
   "source": [
    "print(df_data.isna().sum())"
   ]
  },
  {
   "cell_type": "code",
   "execution_count": 8,
   "metadata": {},
   "outputs": [
    {
     "name": "stdout",
     "output_type": "stream",
     "text": [
      "413\n"
     ]
    }
   ],
   "source": [
    "print(df_data.duplicated().sum())"
   ]
  },
  {
   "cell_type": "code",
   "execution_count": 9,
   "metadata": {},
   "outputs": [],
   "source": [
    "df_data.drop_duplicates(inplace=True)"
   ]
  },
  {
   "cell_type": "code",
   "execution_count": 10,
   "metadata": {},
   "outputs": [
    {
     "name": "stdout",
     "output_type": "stream",
     "text": [
      "0\n"
     ]
    }
   ],
   "source": [
    "print(df_data.duplicated().sum())\n",
    "\n",
    "df_data.reset_index(drop=True ,inplace=True)\n"
   ]
  },
  {
   "cell_type": "code",
   "execution_count": 11,
   "metadata": {},
   "outputs": [
    {
     "name": "stdout",
     "output_type": "stream",
     "text": [
      "                          event               device        time  expid\n",
      "0              MainScreenAppear  4575588528974610257  1564029816    246\n",
      "1              MainScreenAppear  7416695313311560658  1564053102    246\n",
      "2       PaymentScreenSuccessful  3518123091307005509  1564054127    248\n",
      "3              CartScreenAppear  3518123091307005509  1564054127    248\n",
      "4       PaymentScreenSuccessful  6217807653094995999  1564055322    248\n",
      "...                         ...                  ...         ...    ...\n",
      "243708         MainScreenAppear  4599628364049201812  1565212345    247\n",
      "243709         MainScreenAppear  5849806612437486590  1565212439    246\n",
      "243710         MainScreenAppear  5746969938801999050  1565212483    246\n",
      "243711         MainScreenAppear  5746969938801999050  1565212498    246\n",
      "243712       OffersScreenAppear  5746969938801999050  1565212517    246\n",
      "\n",
      "[243713 rows x 4 columns]\n"
     ]
    }
   ],
   "source": [
    "print(df_data)"
   ]
  },
  {
   "cell_type": "code",
   "execution_count": 12,
   "metadata": {},
   "outputs": [],
   "source": [
    "df_data['datetime'] = pd.to_datetime(df_data['time'], unit='s')\n",
    "df_data['date'] = pd.to_datetime(df_data['datetime'].dt.date)"
   ]
  },
  {
   "cell_type": "code",
   "execution_count": 13,
   "metadata": {},
   "outputs": [
    {
     "name": "stdout",
     "output_type": "stream",
     "text": [
      "                          event               device        time  expid  \\\n",
      "0              MainScreenAppear  4575588528974610257  1564029816    246   \n",
      "1              MainScreenAppear  7416695313311560658  1564053102    246   \n",
      "2       PaymentScreenSuccessful  3518123091307005509  1564054127    248   \n",
      "3              CartScreenAppear  3518123091307005509  1564054127    248   \n",
      "4       PaymentScreenSuccessful  6217807653094995999  1564055322    248   \n",
      "...                         ...                  ...         ...    ...   \n",
      "243708         MainScreenAppear  4599628364049201812  1565212345    247   \n",
      "243709         MainScreenAppear  5849806612437486590  1565212439    246   \n",
      "243710         MainScreenAppear  5746969938801999050  1565212483    246   \n",
      "243711         MainScreenAppear  5746969938801999050  1565212498    246   \n",
      "243712       OffersScreenAppear  5746969938801999050  1565212517    246   \n",
      "\n",
      "                  datetime       date  \n",
      "0      2019-07-25 04:43:36 2019-07-25  \n",
      "1      2019-07-25 11:11:42 2019-07-25  \n",
      "2      2019-07-25 11:28:47 2019-07-25  \n",
      "3      2019-07-25 11:28:47 2019-07-25  \n",
      "4      2019-07-25 11:48:42 2019-07-25  \n",
      "...                    ...        ...  \n",
      "243708 2019-08-07 21:12:25 2019-08-07  \n",
      "243709 2019-08-07 21:13:59 2019-08-07  \n",
      "243710 2019-08-07 21:14:43 2019-08-07  \n",
      "243711 2019-08-07 21:14:58 2019-08-07  \n",
      "243712 2019-08-07 21:15:17 2019-08-07  \n",
      "\n",
      "[243713 rows x 6 columns]\n"
     ]
    }
   ],
   "source": [
    "print(df_data)"
   ]
  },
  {
   "cell_type": "markdown",
   "metadata": {},
   "source": [
    "-El dataframe df_data cuenta con 4 columnas inicialmente y 244126 registros\n",
    "\n",
    "-Las 4 columnas son non-nul y cuentan con la totalidad e los registros\n",
    "\n",
    "-Los tipos de datos son correctos solo conciderar que la columna time esta con un formato de timestamp el cual se tiene que transformar a date para un mejor analisis lo cual se realizo\n",
    "\n",
    "-Se encontraron 413 registros totalmente duplicados por se procedio a eliminarlos\n",
    "\n",
    "-Se agrego como se comento una columna correspondiendo a la fecha y hora del evento y la fecha solamente en base a la columna time"
   ]
  },
  {
   "cell_type": "markdown",
   "metadata": {},
   "source": [
    "## Estudiar y comprobar datos"
   ]
  },
  {
   "cell_type": "code",
   "execution_count": 14,
   "metadata": {},
   "outputs": [
    {
     "name": "stdout",
     "output_type": "stream",
     "text": [
      "                         eventcount\n",
      "event                              \n",
      "CartScreenAppear              42668\n",
      "MainScreenAppear             119101\n",
      "OffersScreenAppear            46808\n",
      "PaymentScreenSuccessful       34118\n",
      "Tutorial                       1018\n"
     ]
    }
   ],
   "source": [
    "\n",
    "event_count = df_data.groupby('event').agg({'device': 'count'}).rename(columns={'device':'eventcount'})\n",
    "print(event_count)"
   ]
  },
  {
   "cell_type": "code",
   "execution_count": 15,
   "metadata": {
    "scrolled": false
   },
   "outputs": [
    {
     "name": "stdout",
     "output_type": "stream",
     "text": [
      "                         usercount\n",
      "event                             \n",
      "CartScreenAppear              3749\n",
      "MainScreenAppear              7439\n",
      "OffersScreenAppear            4613\n",
      "PaymentScreenSuccessful       3547\n",
      "Tutorial                       847\n"
     ]
    }
   ],
   "source": [
    "user_count = df_data.groupby('event').agg({'device':'nunique'}).rename(columns={'device':'usercount'})\n",
    "print(user_count)"
   ]
  },
  {
   "cell_type": "code",
   "execution_count": 16,
   "metadata": {},
   "outputs": [
    {
     "name": "stdout",
     "output_type": "stream",
     "text": [
      "                         eventcount  usercount    average\n",
      "event                                                    \n",
      "CartScreenAppear              42668       3749  11.381168\n",
      "MainScreenAppear             119101       7439  16.010351\n",
      "OffersScreenAppear            46808       4613  10.146976\n",
      "PaymentScreenSuccessful       34118       3547   9.618833\n",
      "Tutorial                       1018        847   1.201889\n"
     ]
    }
   ],
   "source": [
    "average_event_user = event_count.merge(user_count, on='event')\n",
    "average_event_user['average'] = average_event_user['eventcount']/average_event_user['usercount']\n",
    "print(average_event_user)\n"
   ]
  },
  {
   "cell_type": "markdown",
   "metadata": {},
   "source": [
    "-event_count cuenta la cantidad de eventos que se realizaron \n",
    "\n",
    "-user_count cuenta la cantidad e usuarios unicos que realizaron un  evento\n",
    "\n",
    "-average_event_user es un merge entre event_count y user_count en la cual se agrego el promedio (event_count/user_count)\n",
    "\n",
    "-En promedio hay 11 personas que visitan CartScreenAppear , 16 que visitan MainScreenAppear, 10 que visitan OffersScreenAppear, 10 que visitan PaymentScreenSuccessful y 1 que visitan Tutorial \n",
    "\n",
    "-Con respecto a los promedios la mayoria es obviamente los de la la pagina principal ya que este es el punto de contacto, disminuye con respecto a ver las ofertas, el carro, el pago como tal y practicamente nadie ve el tutorial  "
   ]
  },
  {
   "cell_type": "code",
   "execution_count": 17,
   "metadata": {},
   "outputs": [
    {
     "name": "stdout",
     "output_type": "stream",
     "text": [
      "2019-07-25 00:00:00\n",
      "2019-08-07 00:00:00\n",
      "13 days 00:00:00\n"
     ]
    }
   ],
   "source": [
    "print(df_data['date'].min())\n",
    "print(df_data['date'].max())\n",
    "print(df_data['date'].max() -df_data['date'].min() )"
   ]
  },
  {
   "cell_type": "code",
   "execution_count": 18,
   "metadata": {},
   "outputs": [
    {
     "data": {
      "image/png": "[encoded data removed]",
      "text/plain": [
       "<Figure size 1000x500 with 1 Axes>"
      ]
     },
     "metadata": {},
     "output_type": "display_data"
    }
   ],
   "source": [
    "plt.figure(figsize=(10,5))\n",
    "df_data['datetime'].hist()\n",
    "plt.xticks(rotation=45)\n",
    "plt.show()"
   ]
  },
  {
   "cell_type": "code",
   "execution_count": 19,
   "metadata": {},
   "outputs": [
    {
     "name": "stdout",
     "output_type": "stream",
     "text": [
      "                     event               device        time  expid  \\\n",
      "2826              Tutorial  3737462046622621720  1564618048    246   \n",
      "2827      MainScreenAppear  3737462046622621720  1564618080    246   \n",
      "2828      MainScreenAppear  3737462046622621720  1564618135    246   \n",
      "2829    OffersScreenAppear  3737462046622621720  1564618138    246   \n",
      "2830      MainScreenAppear  1433840883824088890  1564618139    247   \n",
      "...                    ...                  ...         ...    ...   \n",
      "243708    MainScreenAppear  4599628364049201812  1565212345    247   \n",
      "243709    MainScreenAppear  5849806612437486590  1565212439    246   \n",
      "243710    MainScreenAppear  5746969938801999050  1565212483    246   \n",
      "243711    MainScreenAppear  5746969938801999050  1565212498    246   \n",
      "243712  OffersScreenAppear  5746969938801999050  1565212517    246   \n",
      "\n",
      "                  datetime       date  \n",
      "2826   2019-08-01 00:07:28 2019-08-01  \n",
      "2827   2019-08-01 00:08:00 2019-08-01  \n",
      "2828   2019-08-01 00:08:55 2019-08-01  \n",
      "2829   2019-08-01 00:08:58 2019-08-01  \n",
      "2830   2019-08-01 00:08:59 2019-08-01  \n",
      "...                    ...        ...  \n",
      "243708 2019-08-07 21:12:25 2019-08-07  \n",
      "243709 2019-08-07 21:13:59 2019-08-07  \n",
      "243710 2019-08-07 21:14:43 2019-08-07  \n",
      "243711 2019-08-07 21:14:58 2019-08-07  \n",
      "243712 2019-08-07 21:15:17 2019-08-07  \n",
      "\n",
      "[240887 rows x 6 columns]\n",
      "248    84563\n",
      "246    79302\n",
      "247    77022\n",
      "Name: expid, dtype: int64\n"
     ]
    }
   ],
   "source": [
    "df_new_data = df_data[df_data['datetime'] >= '2019-08-01']\n",
    "print(df_new_data)\n",
    "print(df_new_data['expid'].value_counts())"
   ]
  },
  {
   "cell_type": "markdown",
   "metadata": {},
   "source": [
    "-El periodo de prueba es bastante corto des finales de Julia hasta los primeros dias de Agosto alrededor de 13 dias\n",
    "\n",
    "-Comprobando la frecuencia de las fechas solo se tienen datos significativos a partir del 1 de Agosto del 2019\n",
    "\n",
    "-Teniendo en cuenta lo anterior se filtro a partir de esta fecha para que sean mas relavante el analisis\n",
    "\n",
    "-Se verifico que el nuevo dataframe cuenta con 240887 en comparacion al viejo con 243713 por lo cual solo se descartaron 2826 registros\n",
    "\n",
    "-Se verifico que estuvieran los 3 tipos de usuarios para realizar el analisis A/A/B\n"
   ]
  },
  {
   "cell_type": "markdown",
   "metadata": {},
   "source": [
    "## 4 Estudiar embudo de eventos"
   ]
  },
  {
   "cell_type": "code",
   "execution_count": 20,
   "metadata": {},
   "outputs": [
    {
     "name": "stdout",
     "output_type": "stream",
     "text": [
      "                         eventcount\n",
      "event                              \n",
      "MainScreenAppear             117328\n",
      "OffersScreenAppear            46333\n",
      "CartScreenAppear              42303\n",
      "PaymentScreenSuccessful       33918\n",
      "Tutorial                       1005\n"
     ]
    }
   ],
   "source": [
    "new_event_count = df_new_data.groupby('event').agg({'device':'count'}).rename(columns={'device':'eventcount'})\n",
    "print(new_event_count.sort_values(by='eventcount',ascending=False))"
   ]
  },
  {
   "cell_type": "code",
   "execution_count": 21,
   "metadata": {},
   "outputs": [
    {
     "name": "stdout",
     "output_type": "stream",
     "text": [
      "                         usercount\n",
      "event                             \n",
      "MainScreenAppear              7419\n",
      "OffersScreenAppear            4593\n",
      "CartScreenAppear              3734\n",
      "PaymentScreenSuccessful       3539\n",
      "Tutorial                       840\n"
     ]
    }
   ],
   "source": [
    "new_user_count = df_new_data.groupby('event').agg({'device':'nunique'}).rename(columns={'device':'usercount'})\n",
    "print(new_user_count.sort_values(by='usercount',ascending=False))"
   ]
  },
  {
   "cell_type": "code",
   "execution_count": 22,
   "metadata": {},
   "outputs": [
    {
     "name": "stdout",
     "output_type": "stream",
     "text": [
      "                         eventcount  usercount    average\n",
      "event                                                    \n",
      "CartScreenAppear              42303       3734  11.329138\n",
      "MainScreenAppear             117328       7419  15.814530\n",
      "OffersScreenAppear            46333       4593  10.087742\n",
      "PaymentScreenSuccessful       33918       3539   9.584063\n",
      "Tutorial                       1005        840   1.196429\n"
     ]
    }
   ],
   "source": [
    "merge_count = new_event_count.merge(new_user_count,on='event')\n",
    "merge_count['average'] = merge_count['eventcount']/merge_count['usercount']\n",
    "print(merge_count)"
   ]
  },
  {
   "cell_type": "code",
   "execution_count": 23,
   "metadata": {},
   "outputs": [
    {
     "name": "stdout",
     "output_type": "stream",
     "text": [
      "                         usercount\n",
      "event                             \n",
      "CartScreenAppear              3734\n",
      "MainScreenAppear              7419\n",
      "OffersScreenAppear            4593\n",
      "PaymentScreenSuccessful       3539\n",
      "Tutorial                       840\n"
     ]
    }
   ],
   "source": [
    "user_proportion = df_new_data.pivot_table(index='device',columns='event',values='datetime',aggfunc='min')\n",
    "print(new_user_count)"
   ]
  },
  {
   "cell_type": "markdown",
   "metadata": {},
   "source": [
    "El orden de los eventos puede ser de la siguiente forma\n",
    "\n",
    "1-MainScreenAppear (Pagina inicial de la tienda)\n",
    "\n",
    "2-Tutorial (guia de como realizar el flujo de eventos hasta realizar una compra en teoria deberia verse luego de ingresar a la pagina)\n",
    "\n",
    "3-OffersScreenAppear (Seccion de ofertas)\n",
    "\n",
    "4-CartScreenAppear (Productos que estan en el carrito)\n",
    "\n",
    "5-PaymentScreenSuccessful (realizar la compra de los productos del carrito)\n",
    "\n",
    "Pero el evento del tutorial no influye en absoluto en el flujo normal ya que no es necesario verlo para poder realizar una compra."
   ]
  },
  {
   "cell_type": "code",
   "execution_count": 24,
   "metadata": {},
   "outputs": [
    {
     "name": "stdout",
     "output_type": "stream",
     "text": [
      "Numero de visitas 7419\n"
     ]
    }
   ],
   "source": [
    "n_main_screen = user_proportion[~user_proportion['MainScreenAppear'].isna()].shape[0]\n",
    "print('Numero de visitas',n_main_screen)"
   ]
  },
  {
   "cell_type": "code",
   "execution_count": 25,
   "metadata": {},
   "outputs": [
    {
     "name": "stdout",
     "output_type": "stream",
     "text": [
      "Numero de visitas 7419\n",
      "tutorial visto 46\n",
      "Ofertas vistas 7\n",
      "Productos al carrito 4\n",
      "Pago exitoso 2\n"
     ]
    }
   ],
   "source": [
    "paso_1 = ~user_proportion['MainScreenAppear'].isna()\n",
    "paso_2 = paso_1 & (user_proportion['Tutorial'] > user_proportion['MainScreenAppear'])\n",
    "paso_3 = paso_2 &(user_proportion['OffersScreenAppear'] > user_proportion['Tutorial'])\n",
    "paso_4 = paso_3 & (user_proportion['CartScreenAppear']>user_proportion['OffersScreenAppear'])\n",
    "paso_5 = paso_4 & (user_proportion['PaymentScreenSuccessful']>user_proportion['CartScreenAppear'])\n",
    "\n",
    "n_main = user_proportion[paso_1].shape[0]\n",
    "n_tutorial = user_proportion[paso_2].shape[0]\n",
    "n_offers =  user_proportion[paso_3].shape[0]\n",
    "n_cart =  user_proportion[paso_4].shape[0]\n",
    "n_payment =  user_proportion[paso_5].shape[0]\n",
    "\n",
    "print('Numero de visitas',n_main)\n",
    "print('tutorial visto',n_tutorial)\n",
    "print('Ofertas vistas',n_offers)\n",
    "print('Productos al carrito',n_cart)\n",
    "print('Pago exitoso',n_payment)"
   ]
  },
  {
   "cell_type": "code",
   "execution_count": 26,
   "metadata": {},
   "outputs": [
    {
     "name": "stdout",
     "output_type": "stream",
     "text": [
      "Numero de visitas 7419\n",
      "Ofertas vistas 4201 56.62488205957676\n",
      "Productos al carrito 1767 23.81722604124545\n",
      "Pago exitoso 2 0.02695781102574471\n",
      "tutorial visto 1 0.013478905512872355\n"
     ]
    }
   ],
   "source": [
    "paso_1 = ~user_proportion['MainScreenAppear'].isna()\n",
    "paso_2 = paso_1 & (user_proportion['OffersScreenAppear'] > user_proportion['MainScreenAppear'])\n",
    "paso_3 = paso_2 &(user_proportion['CartScreenAppear'] > user_proportion['OffersScreenAppear'])\n",
    "paso_4 = paso_3 & (user_proportion['PaymentScreenSuccessful']>user_proportion['CartScreenAppear'])\n",
    "paso_5 = paso_4 & (user_proportion['Tutorial']>user_proportion['PaymentScreenSuccessful'])\n",
    "\n",
    "n_main_new = user_proportion[paso_1].shape[0]\n",
    "n_offers_new =  user_proportion[paso_2].shape[0]\n",
    "n_cart_new =  user_proportion[paso_3].shape[0]\n",
    "n_payment_new =  user_proportion[paso_4].shape[0]\n",
    "n_tutorial_new = user_proportion[paso_5].shape[0]\n",
    "\n",
    "print('Numero de visitas',n_main_new)\n",
    "print('Ofertas vistas',n_offers_new, (n_offers_new * 100)/n_main_new)\n",
    "print('Productos al carrito',n_cart_new, (n_cart_new * 100)/n_main_new)\n",
    "print('Pago exitoso',n_payment, (n_payment * 100)/n_main_new)\n",
    "print('tutorial visto',n_tutorial_new, (n_tutorial_new * 100)/n_main_new)"
   ]
  },
  {
   "cell_type": "markdown",
   "metadata": {},
   "source": [
    "-En cuanto al promedio con los datos filtrado se puede ver que no tuvo un cambio significativo\n",
    "\n",
    "-en los 2 ordenes de eventos mostrados se ve que solo el 2.6% de las persona completo todos los eventos\n",
    "\n",
    "-en el cual nos centraremos es en el orden (main,offer,cart,payment,tutorial) ya que el tutorial puede ser un evento mas bien totalmente opcional con esto me refiero a que el en el flujo no afecta\n",
    "\n",
    "-a medida que avanza el flujo de los eventos se ve una disminucion de personas siendo las que completan una compra muy pocas "
   ]
  },
  {
   "cell_type": "markdown",
   "metadata": {},
   "source": [
    "## Estudiar los resultados del experimento"
   ]
  },
  {
   "cell_type": "code",
   "execution_count": 27,
   "metadata": {},
   "outputs": [
    {
     "name": "stdout",
     "output_type": "stream",
     "text": [
      "248    84563\n",
      "246    79302\n",
      "247    77022\n",
      "Name: expid, dtype: int64\n"
     ]
    }
   ],
   "source": [
    "print(df_new_data['expid'].value_counts())"
   ]
  },
  {
   "cell_type": "code",
   "execution_count": 42,
   "metadata": {},
   "outputs": [
    {
     "name": "stdout",
     "output_type": "stream",
     "text": [
      "MainScreenAppear           37676\n",
      "OffersScreenAppear         14767\n",
      "CartScreenAppear           14690\n",
      "PaymentScreenSuccessful    11852\n",
      "Tutorial                     317\n",
      "Name: event, dtype: int64\n",
      "MainScreenAppear           39090\n",
      "OffersScreenAppear         15179\n",
      "CartScreenAppear           12434\n",
      "PaymentScreenSuccessful     9981\n",
      "Tutorial                     338\n",
      "Name: event, dtype: int64\n",
      "2513\n"
     ]
    }
   ],
   "source": [
    "muestra_246 =df_new_data[df_new_data['expid']==246]\n",
    "muestra_247 =df_new_data[df_new_data['expid']==247]\n",
    "\n",
    "id_246 = df_new_data[df_new_data['expid']==246]['event'].value_counts()\n",
    "id_247 = df_new_data[df_new_data['expid']==247]['event'].value_counts()\n",
    "\n",
    "print(id_246)\n",
    "print(id_247)\n",
    "\n",
    "\n",
    "prueba = muestra_247['device'].nunique()\n",
    "print(prueba)"
   ]
  },
  {
   "cell_type": "code",
   "execution_count": 29,
   "metadata": {},
   "outputs": [
    {
     "name": "stdout",
     "output_type": "stream",
     "text": [
      "p 0.9601191580301243\n"
     ]
    }
   ],
   "source": [
    "#diferencia estadistica entre los grupos de control\n",
    "resultAA = st.ttest_ind(id_246,id_247)\n",
    "\n",
    "print('p',resultAA.pvalue)"
   ]
  },
  {
   "cell_type": "code",
   "execution_count": 52,
   "metadata": {},
   "outputs": [
    {
     "name": "stdout",
     "output_type": "stream",
     "text": [
      "p-value:  0.9376996189257114\n",
      "No se pudo rechazar la hipótesis nula: no hay razón para pensar que las proporciones son diferentes\n",
      "p-value:  0.7570597232046099\n",
      "No se pudo rechazar la hipótesis nula: no hay razón para pensar que las proporciones son diferentes\n",
      "p-value:  0.2480954578522181\n",
      "No se pudo rechazar la hipótesis nula: no hay razón para pensar que las proporciones son diferentes\n",
      "p-value:  0.22883372237997213\n",
      "No se pudo rechazar la hipótesis nula: no hay razón para pensar que las proporciones son diferentes\n",
      "p-value:  0.11456679313141849\n",
      "No se pudo rechazar la hipótesis nula: no hay razón para pensar que las proporciones son diferentes\n",
      "{'Tutorial': 0.9376996189257114, 'MainScreenAppear': 0.7570597232046099, 'OffersScreenAppear': 0.2480954578522181, 'CartScreenAppear': 0.22883372237997213, 'PaymentScreenSuccessful': 0.11456679313141849}\n"
     ]
    }
   ],
   "source": [
    "event_name=\"MainScreenAppear\"\n",
    "alpha = 0.1\n",
    "def analisis(df, event_name):\n",
    "    evento = df[df['event']==event_name]\n",
    "    \n",
    "    cant_usuarios_246 = evento[evento['expid']==246]['device'].nunique()\n",
    "    cant_usuarios_247 = evento[evento['expid']==247]['device'].nunique()\n",
    "    \n",
    "    total_usuarios_246 = df[df['expid']==246]['device'].nunique()\n",
    "    total_usuarios_247 = df[df['expid']==247]['device'].nunique()\n",
    "    \n",
    "    proportion_246 = cant_usuarios_246 / total_usuarios_246\n",
    "    proportion_247 = cant_usuarios_247 / total_usuarios_247\n",
    "    \n",
    "    proporcion_combinada = (cant_usuarios_246 + cant_usuarios_247) / (total_usuarios_246 + total_usuarios_247)\n",
    "    \n",
    "    diferencia = proportion_246 - proportion_247\n",
    "    \n",
    "    z_value = diferencia /mth.sqrt(proporcion_combinada *(1-proporcion_combinada)*(1/total_usuarios_246 + 1/total_usuarios_247))\n",
    "    distr = st.norm(0,1)\n",
    "    \n",
    "    p_value =(1- distr.cdf(abs(z_value))) * 2\n",
    "    \n",
    "    print('p-value: ', p_value)\n",
    "\n",
    "    if (p_value < alpha):\n",
    "        print(\"Rechazar la hipótesis nula: hay una diferencia significativa entre las proporciones\")\n",
    "    else:\n",
    "        print(\"No se pudo rechazar la hipótesis nula: no hay razón para pensar que las proporciones son diferentes\")\n",
    "    return p_value\n",
    "\n",
    "event_list = df_new_data['event'].unique()\n",
    "p_values = {}\n",
    "for event in event_list:\n",
    "    p = analisis(df_new_data, event)\n",
    "    p_values[event]=p\n",
    "\n",
    "\n",
    "print(p_values)"
   ]
  },
  {
   "cell_type": "code",
   "execution_count": 56,
   "metadata": {},
   "outputs": [
    {
     "name": "stdout",
     "output_type": "stream",
     "text": [
      "p-value:  0.8264294010087645\n",
      "No se pudo rechazar la hipótesis nula: no hay razón para pensar que las proporciones son diferentes\n",
      "p-value:  0.2949721933554552\n",
      "No se pudo rechazar la hipótesis nula: no hay razón para pensar que las proporciones son diferentes\n",
      "p-value:  0.20836205402738917\n",
      "No se pudo rechazar la hipótesis nula: no hay razón para pensar que las proporciones son diferentes\n",
      "p-value:  0.07842923237520116\n",
      "Rechazar la hipótesis nula: hay una diferencia significativa entre las proporciones\n",
      "p-value:  0.2122553275697796\n",
      "No se pudo rechazar la hipótesis nula: no hay razón para pensar que las proporciones son diferentes\n",
      "{'Tutorial': 0.8264294010087645, 'MainScreenAppear': 0.2949721933554552, 'OffersScreenAppear': 0.20836205402738917, 'CartScreenAppear': 0.07842923237520116, 'PaymentScreenSuccessful': 0.2122553275697796}\n"
     ]
    }
   ],
   "source": [
    "def analisis2(df, event_name):\n",
    "    evento = df[df['event']==event_name]\n",
    "    \n",
    "    cant_usuarios_246 = evento[evento['expid']==246]['device'].nunique()\n",
    "    cant_usuarios_248 = evento[evento['expid']==248]['device'].nunique()\n",
    "    \n",
    "    total_usuarios_246 = df[df['expid']==246]['device'].nunique()\n",
    "    total_usuarios_248 = df[df['expid']==248]['device'].nunique()\n",
    "    \n",
    "    proportion_246 = cant_usuarios_246 / total_usuarios_246\n",
    "    proportion_248 = cant_usuarios_248 / total_usuarios_248\n",
    "    \n",
    "    proporcion_combinada = (cant_usuarios_246 + cant_usuarios_248) / (total_usuarios_246 + total_usuarios_248)\n",
    "    \n",
    "    diferencia = proportion_246 - proportion_248\n",
    "    \n",
    "    z_value = diferencia /mth.sqrt(proporcion_combinada *(1-proporcion_combinada)*(1/total_usuarios_246 + 1/total_usuarios_248))\n",
    "    distr = st.norm(0,1)\n",
    "    \n",
    "    p_value =(1- distr.cdf(abs(z_value))) * 2\n",
    "    \n",
    "    print('p-value: ', p_value)\n",
    "\n",
    "    if (p_value < alpha):\n",
    "        print(\"Rechazar la hipótesis nula: hay una diferencia significativa entre las proporciones\")\n",
    "    else:\n",
    "        print(\"No se pudo rechazar la hipótesis nula: no hay razón para pensar que las proporciones son diferentes\")\n",
    "    return p_value\n",
    "\n",
    "event_list = df_new_data['event'].unique()\n",
    "p_values2 = {}\n",
    "for event in event_list:\n",
    "    p = analisis2(df_new_data, event)\n",
    "    p_values2[event]=p\n",
    "\n",
    "\n",
    "print(p_values2)"
   ]
  },
  {
   "cell_type": "code",
   "execution_count": 57,
   "metadata": {},
   "outputs": [
    {
     "name": "stdout",
     "output_type": "stream",
     "text": [
      "p-value:  0.765323922474501\n",
      "No se pudo rechazar la hipótesis nula: no hay razón para pensar que las proporciones son diferentes\n",
      "p-value:  0.4587053616621515\n",
      "No se pudo rechazar la hipótesis nula: no hay razón para pensar que las proporciones son diferentes\n",
      "p-value:  0.9197817830592261\n",
      "No se pudo rechazar la hipótesis nula: no hay razón para pensar que las proporciones son diferentes\n",
      "p-value:  0.5786197879539783\n",
      "No se pudo rechazar la hipótesis nula: no hay razón para pensar que las proporciones son diferentes\n",
      "p-value:  0.7373415053803964\n",
      "No se pudo rechazar la hipótesis nula: no hay razón para pensar que las proporciones son diferentes\n",
      "{'Tutorial': 0.765323922474501, 'MainScreenAppear': 0.4587053616621515, 'OffersScreenAppear': 0.9197817830592261, 'CartScreenAppear': 0.5786197879539783, 'PaymentScreenSuccessful': 0.7373415053803964}\n"
     ]
    }
   ],
   "source": [
    "def analisis3(df, event_name):\n",
    "    evento = df[df['event']==event_name]\n",
    "    \n",
    "    cant_usuarios_247 = evento[evento['expid']==247]['device'].nunique()\n",
    "    cant_usuarios_248 = evento[evento['expid']==248]['device'].nunique()\n",
    "    \n",
    "    total_usuarios_247 = df[df['expid']==247]['device'].nunique()\n",
    "    total_usuarios_248 = df[df['expid']==248]['device'].nunique()\n",
    "    \n",
    "    proportion_247 = cant_usuarios_247 / total_usuarios_247\n",
    "    proportion_248 = cant_usuarios_248 / total_usuarios_248\n",
    "    \n",
    "    proporcion_combinada = (cant_usuarios_247 + cant_usuarios_248) / (total_usuarios_247 + total_usuarios_248)\n",
    "    \n",
    "    diferencia = proportion_247 - proportion_248\n",
    "    \n",
    "    z_value = diferencia /mth.sqrt(proporcion_combinada *(1-proporcion_combinada)*(1/total_usuarios_247 + 1/total_usuarios_248))\n",
    "    distr = st.norm(0,1)\n",
    "    \n",
    "    p_value =(1- distr.cdf(abs(z_value))) * 2\n",
    "    \n",
    "    print('p-value: ', p_value)\n",
    "\n",
    "    if (p_value < alpha):\n",
    "        print(\"Rechazar la hipótesis nula: hay una diferencia significativa entre las proporciones\")\n",
    "    else:\n",
    "        print(\"No se pudo rechazar la hipótesis nula: no hay razón para pensar que las proporciones son diferentes\")\n",
    "    return p_value\n",
    "\n",
    "event_list = df_new_data['event'].unique()\n",
    "p_values3 = {}\n",
    "for event in event_list:\n",
    "    p = analisis3(df_new_data, event)\n",
    "    p_values3[event]=p\n",
    "\n",
    "\n",
    "print(p_values3)"
   ]
  },
  {
   "cell_type": "code",
   "execution_count": 59,
   "metadata": {},
   "outputs": [
    {
     "name": "stdout",
     "output_type": "stream",
     "text": [
      "muestras 246 y 247 {'Tutorial': 0.765323922474501, 'MainScreenAppear': 0.4587053616621515, 'OffersScreenAppear': 0.9197817830592261, 'CartScreenAppear': 0.5786197879539783, 'PaymentScreenSuccessful': 0.7373415053803964}\n",
      "\n",
      "muestras 246 y 248 {'Tutorial': 0.8264294010087645, 'MainScreenAppear': 0.2949721933554552, 'OffersScreenAppear': 0.20836205402738917, 'CartScreenAppear': 0.07842923237520116, 'PaymentScreenSuccessful': 0.2122553275697796}\n",
      "\n",
      "muestras 247 y 248 {'Tutorial': 0.765323922474501, 'MainScreenAppear': 0.4587053616621515, 'OffersScreenAppear': 0.9197817830592261, 'CartScreenAppear': 0.5786197879539783, 'PaymentScreenSuccessful': 0.7373415053803964}\n"
     ]
    }
   ],
   "source": [
    "print('muestras 246 y 247',p_values)\n",
    "print()\n",
    "print('muestras 246 y 248',p_values2)\n",
    "print()\n",
    "print('muestras 247 y 248',p_values3)\n"
   ]
  },
  {
   "cell_type": "markdown",
   "metadata": {},
   "source": [
    "-No se puede decir que exista una diferencia estadistica de los grupos de control\n",
    "\n",
    "-Las funciones realizan una evaluacion por evento entre 2 muestras viendo las proporciones de estas como se puede ver en los experimentos en todo los eventos de los grupos aunque la significancia este en 0.1 o 0.05 no se tiene razon para decir las proporciones entre los eventos de los grupos es diferente\n",
    "\n",
    "-Segun los datos el experimento aunque tuviera una corta duracion se tuvo una proporcion casi igual en los diferentes grupos\n",
    "\n",
    "-Por otro lado los cambios realizados para el experimento parecen no afectar el comportamiento del usuario por lo que se recomienda buscar uno con mayor impacto para realizar ventas."
   ]
  }
 ],
 "metadata": {
  "ExecuteTimeLog": [
   {
    "duration": 311,
    "start_time": "2024-09-24T13:12:18.205Z"
   },
   {
    "duration": 285,
    "start_time": "2024-09-24T13:12:52.493Z"
   },
   {
    "duration": 8,
    "start_time": "2024-09-24T13:13:02.150Z"
   },
   {
    "duration": 6,
    "start_time": "2024-09-24T13:13:13.447Z"
   },
   {
    "duration": 5,
    "start_time": "2024-09-24T13:13:25.973Z"
   },
   {
    "duration": 4,
    "start_time": "2024-09-24T13:13:35.611Z"
   },
   {
    "duration": 4,
    "start_time": "2024-09-24T13:13:51.630Z"
   },
   {
    "duration": 247,
    "start_time": "2024-09-24T13:14:31.533Z"
   },
   {
    "duration": 5,
    "start_time": "2024-09-24T13:14:35.168Z"
   },
   {
    "duration": 5,
    "start_time": "2024-09-24T13:17:57.287Z"
   },
   {
    "duration": 219,
    "start_time": "2024-09-24T13:18:00.711Z"
   },
   {
    "duration": 5,
    "start_time": "2024-09-24T13:18:01.430Z"
   },
   {
    "duration": 219,
    "start_time": "2024-09-24T13:18:24.525Z"
   },
   {
    "duration": 5,
    "start_time": "2024-09-24T13:18:25.447Z"
   },
   {
    "duration": 204,
    "start_time": "2024-09-24T13:18:41.630Z"
   },
   {
    "duration": 5,
    "start_time": "2024-09-24T13:18:41.979Z"
   },
   {
    "duration": 5,
    "start_time": "2024-09-24T13:19:32.531Z"
   },
   {
    "duration": 405,
    "start_time": "2024-09-24T13:19:37.013Z"
   },
   {
    "duration": 175,
    "start_time": "2024-09-24T13:19:51.738Z"
   },
   {
    "duration": 7,
    "start_time": "2024-09-24T13:19:52.681Z"
   },
   {
    "duration": 215,
    "start_time": "2024-09-24T13:20:01.264Z"
   },
   {
    "duration": 6,
    "start_time": "2024-09-24T13:20:02.249Z"
   },
   {
    "duration": 114,
    "start_time": "2024-09-24T13:20:53.599Z"
   },
   {
    "duration": 7,
    "start_time": "2024-09-24T13:20:54.237Z"
   },
   {
    "duration": 3,
    "start_time": "2024-09-24T13:23:01.818Z"
   },
   {
    "duration": 5,
    "start_time": "2024-09-24T13:23:08.071Z"
   },
   {
    "duration": 19,
    "start_time": "2024-09-24T13:23:38.778Z"
   },
   {
    "duration": 14,
    "start_time": "2024-09-24T13:24:28.160Z"
   },
   {
    "duration": 35,
    "start_time": "2024-09-24T13:24:33.392Z"
   },
   {
    "duration": 97,
    "start_time": "2024-09-24T13:26:54.500Z"
   },
   {
    "duration": 189,
    "start_time": "2024-09-24T13:29:14.160Z"
   },
   {
    "duration": 40,
    "start_time": "2024-09-24T13:29:21.095Z"
   },
   {
    "duration": 43,
    "start_time": "2024-09-24T13:29:26.968Z"
   },
   {
    "duration": 6,
    "start_time": "2024-09-24T13:31:58.356Z"
   },
   {
    "duration": 39,
    "start_time": "2024-09-24T13:40:33.684Z"
   },
   {
    "duration": 8,
    "start_time": "2024-09-24T13:40:35.884Z"
   },
   {
    "duration": 2348,
    "start_time": "2024-09-24T14:56:58.643Z"
   },
   {
    "duration": 327,
    "start_time": "2024-09-24T14:58:09.856Z"
   },
   {
    "duration": 28,
    "start_time": "2024-09-24T14:59:09.167Z"
   },
   {
    "duration": 7,
    "start_time": "2024-09-24T15:03:35.037Z"
   },
   {
    "duration": 5,
    "start_time": "2024-09-24T15:03:48.114Z"
   },
   {
    "duration": 15,
    "start_time": "2024-09-24T15:06:06.917Z"
   },
   {
    "duration": 4,
    "start_time": "2024-09-24T15:06:14.317Z"
   },
   {
    "duration": 7,
    "start_time": "2024-09-24T15:06:18.649Z"
   },
   {
    "duration": 85,
    "start_time": "2024-09-24T15:11:29.912Z"
   },
   {
    "duration": 8,
    "start_time": "2024-09-24T15:11:38.093Z"
   },
   {
    "duration": 7,
    "start_time": "2024-09-24T18:18:56.998Z"
   },
   {
    "duration": 69,
    "start_time": "2024-09-24T18:21:11.175Z"
   },
   {
    "duration": 7,
    "start_time": "2024-09-24T18:21:12.372Z"
   },
   {
    "duration": 787,
    "start_time": "2024-09-24T18:21:24.750Z"
   },
   {
    "duration": 100,
    "start_time": "2024-09-24T18:21:25.539Z"
   },
   {
    "duration": 7,
    "start_time": "2024-09-24T18:21:25.643Z"
   },
   {
    "duration": 3,
    "start_time": "2024-09-24T18:21:25.652Z"
   },
   {
    "duration": 5,
    "start_time": "2024-09-24T18:21:25.658Z"
   },
   {
    "duration": 15,
    "start_time": "2024-09-24T18:21:25.665Z"
   },
   {
    "duration": 11,
    "start_time": "2024-09-24T18:21:25.681Z"
   },
   {
    "duration": 74,
    "start_time": "2024-09-24T18:21:25.694Z"
   },
   {
    "duration": 46,
    "start_time": "2024-09-24T18:21:25.769Z"
   },
   {
    "duration": 55,
    "start_time": "2024-09-24T18:21:25.817Z"
   },
   {
    "duration": 5,
    "start_time": "2024-09-24T18:21:25.874Z"
   },
   {
    "duration": 85,
    "start_time": "2024-09-24T18:21:25.881Z"
   },
   {
    "duration": 7,
    "start_time": "2024-09-24T18:21:25.968Z"
   },
   {
    "duration": 4,
    "start_time": "2024-09-24T18:26:05.037Z"
   },
   {
    "duration": 20,
    "start_time": "2024-09-24T18:29:00.486Z"
   },
   {
    "duration": 35,
    "start_time": "2024-09-24T18:29:23.435Z"
   },
   {
    "duration": 14,
    "start_time": "2024-09-24T18:33:28.659Z"
   },
   {
    "duration": 7,
    "start_time": "2024-09-24T18:34:03.068Z"
   },
   {
    "duration": 3,
    "start_time": "2024-09-24T18:35:59.152Z"
   },
   {
    "duration": 4,
    "start_time": "2024-09-24T18:36:42.511Z"
   },
   {
    "duration": 4,
    "start_time": "2024-09-24T18:37:09.303Z"
   },
   {
    "duration": 5,
    "start_time": "2024-09-24T18:37:47.403Z"
   },
   {
    "duration": 31,
    "start_time": "2024-09-24T18:40:47.870Z"
   },
   {
    "duration": 20,
    "start_time": "2024-09-24T18:41:07.200Z"
   },
   {
    "duration": 37,
    "start_time": "2024-09-24T18:43:24.682Z"
   },
   {
    "duration": 20,
    "start_time": "2024-09-24T18:46:03.659Z"
   },
   {
    "duration": 36,
    "start_time": "2024-09-24T18:46:28.599Z"
   },
   {
    "duration": 5,
    "start_time": "2024-09-24T18:53:19.763Z"
   },
   {
    "duration": 7,
    "start_time": "2024-09-24T18:53:39.488Z"
   },
   {
    "duration": 207,
    "start_time": "2024-09-24T18:56:11.662Z"
   },
   {
    "duration": 21,
    "start_time": "2024-09-24T18:56:50.805Z"
   },
   {
    "duration": 17,
    "start_time": "2024-09-24T18:56:54.160Z"
   },
   {
    "duration": 7,
    "start_time": "2024-09-24T18:57:03.645Z"
   },
   {
    "duration": 18,
    "start_time": "2024-09-24T18:57:33.977Z"
   },
   {
    "duration": 15,
    "start_time": "2024-09-24T18:57:46.282Z"
   },
   {
    "duration": 8,
    "start_time": "2024-09-24T18:58:05.761Z"
   },
   {
    "duration": 16,
    "start_time": "2024-09-24T18:58:19.208Z"
   },
   {
    "duration": 16,
    "start_time": "2024-09-24T18:59:07.199Z"
   },
   {
    "duration": 4,
    "start_time": "2024-09-24T18:59:57.254Z"
   },
   {
    "duration": 179,
    "start_time": "2024-09-24T19:00:23.315Z"
   },
   {
    "duration": 140,
    "start_time": "2024-09-24T19:00:52.945Z"
   },
   {
    "duration": 134,
    "start_time": "2024-09-24T19:01:11.732Z"
   },
   {
    "duration": 3,
    "start_time": "2024-09-24T19:10:05.014Z"
   },
   {
    "duration": 10,
    "start_time": "2024-09-24T19:12:43.689Z"
   },
   {
    "duration": 15,
    "start_time": "2024-09-24T19:13:02.520Z"
   },
   {
    "duration": 23,
    "start_time": "2024-09-24T19:14:14.712Z"
   },
   {
    "duration": 17,
    "start_time": "2024-09-24T19:14:59.680Z"
   },
   {
    "duration": 2520,
    "start_time": "2024-09-25T17:19:11.198Z"
   },
   {
    "duration": 197,
    "start_time": "2024-09-25T17:19:13.720Z"
   },
   {
    "duration": 8,
    "start_time": "2024-09-25T17:19:13.919Z"
   },
   {
    "duration": 3,
    "start_time": "2024-09-25T17:19:13.929Z"
   },
   {
    "duration": 6,
    "start_time": "2024-09-25T17:19:13.935Z"
   },
   {
    "duration": 16,
    "start_time": "2024-09-25T17:19:13.942Z"
   },
   {
    "duration": 12,
    "start_time": "2024-09-25T17:19:13.960Z"
   },
   {
    "duration": 76,
    "start_time": "2024-09-25T17:19:13.974Z"
   },
   {
    "duration": 69,
    "start_time": "2024-09-25T17:19:14.051Z"
   },
   {
    "duration": 44,
    "start_time": "2024-09-25T17:19:14.122Z"
   },
   {
    "duration": 7,
    "start_time": "2024-09-25T17:19:14.168Z"
   },
   {
    "duration": 84,
    "start_time": "2024-09-25T17:19:14.177Z"
   },
   {
    "duration": 10,
    "start_time": "2024-09-25T17:19:14.262Z"
   },
   {
    "duration": 20,
    "start_time": "2024-09-25T17:19:14.276Z"
   },
   {
    "duration": 54,
    "start_time": "2024-09-25T17:19:14.309Z"
   },
   {
    "duration": 11,
    "start_time": "2024-09-25T17:19:14.366Z"
   },
   {
    "duration": 5,
    "start_time": "2024-09-25T17:19:14.379Z"
   },
   {
    "duration": 176,
    "start_time": "2024-09-25T17:19:14.386Z"
   },
   {
    "duration": 19,
    "start_time": "2024-09-25T17:19:14.564Z"
   },
   {
    "duration": 5,
    "start_time": "2024-09-25T17:31:14.027Z"
   },
   {
    "duration": 3,
    "start_time": "2024-09-25T17:31:50.647Z"
   },
   {
    "duration": 265,
    "start_time": "2024-09-25T17:32:08.752Z"
   },
   {
    "duration": 42,
    "start_time": "2024-09-25T17:32:19.756Z"
   },
   {
    "duration": 20,
    "start_time": "2024-09-25T17:32:58.996Z"
   },
   {
    "duration": 20,
    "start_time": "2024-09-25T17:33:22.704Z"
   },
   {
    "duration": 18,
    "start_time": "2024-09-25T17:35:30.912Z"
   },
   {
    "duration": 17,
    "start_time": "2024-09-25T17:35:45.847Z"
   },
   {
    "duration": 16,
    "start_time": "2024-09-25T17:35:53.409Z"
   },
   {
    "duration": 40,
    "start_time": "2024-09-25T17:36:00.695Z"
   },
   {
    "duration": 54,
    "start_time": "2024-09-25T17:36:10.098Z"
   },
   {
    "duration": 59,
    "start_time": "2024-09-25T17:42:16.904Z"
   },
   {
    "duration": 40,
    "start_time": "2024-09-25T17:42:40.272Z"
   },
   {
    "duration": 21,
    "start_time": "2024-09-25T17:44:57.050Z"
   },
   {
    "duration": 25,
    "start_time": "2024-09-25T17:45:30.212Z"
   },
   {
    "duration": 56,
    "start_time": "2024-09-25T17:46:25.147Z"
   },
   {
    "duration": 5,
    "start_time": "2024-09-25T17:51:22.980Z"
   },
   {
    "duration": 515,
    "start_time": "2024-09-25T18:04:19.835Z"
   },
   {
    "duration": 10,
    "start_time": "2024-09-25T18:04:41.216Z"
   },
   {
    "duration": 9,
    "start_time": "2024-09-25T18:04:55.959Z"
   },
   {
    "duration": 9,
    "start_time": "2024-09-25T18:10:07.002Z"
   },
   {
    "duration": 4,
    "start_time": "2024-09-25T18:19:58.580Z"
   },
   {
    "duration": 4,
    "start_time": "2024-09-25T18:20:16.303Z"
   },
   {
    "duration": 4,
    "start_time": "2024-09-25T18:20:50.078Z"
   },
   {
    "duration": 5,
    "start_time": "2024-09-25T18:21:02.401Z"
   },
   {
    "duration": 8,
    "start_time": "2024-09-25T18:21:30.774Z"
   },
   {
    "duration": 7,
    "start_time": "2024-09-25T18:22:15.159Z"
   },
   {
    "duration": 22,
    "start_time": "2024-09-25T19:26:36.937Z"
   },
   {
    "duration": 24,
    "start_time": "2024-09-25T19:26:54.860Z"
   },
   {
    "duration": 9,
    "start_time": "2024-09-25T19:27:24.906Z"
   },
   {
    "duration": 57,
    "start_time": "2024-09-25T19:27:59.964Z"
   },
   {
    "duration": 39,
    "start_time": "2024-09-25T19:28:07.126Z"
   },
   {
    "duration": 10,
    "start_time": "2024-09-25T19:28:14.538Z"
   },
   {
    "duration": 6,
    "start_time": "2024-09-25T19:35:56.734Z"
   },
   {
    "duration": 8,
    "start_time": "2024-09-25T19:45:47.048Z"
   },
   {
    "duration": 9,
    "start_time": "2024-09-25T19:47:14.185Z"
   },
   {
    "duration": 8,
    "start_time": "2024-09-25T19:58:21.035Z"
   },
   {
    "duration": 10,
    "start_time": "2024-09-25T19:59:35.251Z"
   },
   {
    "duration": 9,
    "start_time": "2024-09-25T20:00:07.067Z"
   },
   {
    "duration": 2454,
    "start_time": "2024-09-26T17:20:13.079Z"
   },
   {
    "duration": 140,
    "start_time": "2024-09-26T17:20:15.535Z"
   },
   {
    "duration": 8,
    "start_time": "2024-09-26T17:20:15.677Z"
   },
   {
    "duration": 2,
    "start_time": "2024-09-26T17:20:15.687Z"
   },
   {
    "duration": 5,
    "start_time": "2024-09-26T17:20:15.691Z"
   },
   {
    "duration": 35,
    "start_time": "2024-09-26T17:20:15.698Z"
   },
   {
    "duration": 10,
    "start_time": "2024-09-26T17:20:15.734Z"
   },
   {
    "duration": 41,
    "start_time": "2024-09-26T17:20:15.746Z"
   },
   {
    "duration": 64,
    "start_time": "2024-09-26T17:20:15.789Z"
   },
   {
    "duration": 41,
    "start_time": "2024-09-26T17:20:15.857Z"
   },
   {
    "duration": 5,
    "start_time": "2024-09-26T17:20:15.901Z"
   },
   {
    "duration": 92,
    "start_time": "2024-09-26T17:20:15.908Z"
   },
   {
    "duration": 7,
    "start_time": "2024-09-26T17:20:16.002Z"
   },
   {
    "duration": 31,
    "start_time": "2024-09-26T17:20:16.012Z"
   },
   {
    "duration": 38,
    "start_time": "2024-09-26T17:20:16.044Z"
   },
   {
    "duration": 9,
    "start_time": "2024-09-26T17:20:16.084Z"
   },
   {
    "duration": 6,
    "start_time": "2024-09-26T17:20:16.094Z"
   },
   {
    "duration": 180,
    "start_time": "2024-09-26T17:20:16.101Z"
   },
   {
    "duration": 16,
    "start_time": "2024-09-26T17:20:16.282Z"
   },
   {
    "duration": 31,
    "start_time": "2024-09-26T17:20:16.300Z"
   },
   {
    "duration": 37,
    "start_time": "2024-09-26T17:20:16.333Z"
   },
   {
    "duration": 7,
    "start_time": "2024-09-26T17:20:16.372Z"
   },
   {
    "duration": 60,
    "start_time": "2024-09-26T17:20:16.380Z"
   },
   {
    "duration": 4,
    "start_time": "2024-09-26T17:20:16.442Z"
   },
   {
    "duration": 8,
    "start_time": "2024-09-26T17:20:16.448Z"
   },
   {
    "duration": 8,
    "start_time": "2024-09-26T17:20:16.457Z"
   },
   {
    "duration": 4,
    "start_time": "2024-09-26T17:30:14.424Z"
   },
   {
    "duration": 348,
    "start_time": "2024-09-26T17:52:33.388Z"
   },
   {
    "duration": 9,
    "start_time": "2024-09-26T17:53:23.181Z"
   },
   {
    "duration": 10,
    "start_time": "2024-09-26T17:53:37.018Z"
   },
   {
    "duration": 13,
    "start_time": "2024-09-26T17:54:20.696Z"
   },
   {
    "duration": 14,
    "start_time": "2024-09-26T18:04:39.267Z"
   },
   {
    "duration": 16,
    "start_time": "2024-09-26T18:04:57.409Z"
   },
   {
    "duration": 31,
    "start_time": "2024-09-26T18:07:34.765Z"
   },
   {
    "duration": 20,
    "start_time": "2024-09-26T18:07:41.703Z"
   },
   {
    "duration": 20,
    "start_time": "2024-09-26T18:10:59.975Z"
   },
   {
    "duration": 268,
    "start_time": "2024-09-26T18:17:56.925Z"
   },
   {
    "duration": 37,
    "start_time": "2024-09-26T18:19:30.421Z"
   },
   {
    "duration": 14,
    "start_time": "2024-09-26T18:20:20.913Z"
   },
   {
    "duration": 18,
    "start_time": "2024-09-26T18:20:28.037Z"
   },
   {
    "duration": 473,
    "start_time": "2024-09-26T18:21:08.057Z"
   },
   {
    "duration": 18,
    "start_time": "2024-09-26T18:21:39.111Z"
   },
   {
    "duration": 113,
    "start_time": "2024-09-26T18:23:17.237Z"
   },
   {
    "duration": 62,
    "start_time": "2024-09-26T18:23:31.416Z"
   },
   {
    "duration": 14,
    "start_time": "2024-09-26T18:36:40.769Z"
   },
   {
    "duration": 26,
    "start_time": "2024-09-26T18:36:45.294Z"
   },
   {
    "duration": 18,
    "start_time": "2024-09-26T18:36:48.214Z"
   },
   {
    "duration": 16,
    "start_time": "2024-09-26T18:38:29.058Z"
   },
   {
    "duration": 18,
    "start_time": "2024-09-26T18:38:56.841Z"
   },
   {
    "duration": 17,
    "start_time": "2024-09-26T18:39:03.633Z"
   },
   {
    "duration": 17,
    "start_time": "2024-09-26T18:39:16.449Z"
   },
   {
    "duration": 16,
    "start_time": "2024-09-26T18:40:33.431Z"
   },
   {
    "duration": 18,
    "start_time": "2024-09-26T18:40:45.815Z"
   },
   {
    "duration": 98,
    "start_time": "2024-09-26T18:44:02.652Z"
   },
   {
    "duration": 17,
    "start_time": "2024-09-26T18:44:20.527Z"
   },
   {
    "duration": 28,
    "start_time": "2024-09-26T18:44:31.025Z"
   },
   {
    "duration": 60,
    "start_time": "2024-09-26T18:45:22.894Z"
   },
   {
    "duration": 57,
    "start_time": "2024-09-26T18:45:36.023Z"
   },
   {
    "duration": 29,
    "start_time": "2024-09-26T18:48:04.905Z"
   },
   {
    "duration": 59,
    "start_time": "2024-09-26T18:48:14.853Z"
   },
   {
    "duration": 16,
    "start_time": "2024-09-26T18:48:35.264Z"
   },
   {
    "duration": 12,
    "start_time": "2024-09-26T18:51:31.613Z"
   },
   {
    "duration": 12,
    "start_time": "2024-09-26T18:52:32.756Z"
   },
   {
    "duration": 18,
    "start_time": "2024-09-26T18:53:55.324Z"
   },
   {
    "duration": 20,
    "start_time": "2024-09-26T18:54:09.232Z"
   },
   {
    "duration": 34,
    "start_time": "2024-09-26T18:55:26.359Z"
   },
   {
    "duration": 17,
    "start_time": "2024-09-26T18:55:43.881Z"
   },
   {
    "duration": 15,
    "start_time": "2024-09-26T18:58:06.179Z"
   },
   {
    "duration": 15,
    "start_time": "2024-09-26T18:58:23.465Z"
   },
   {
    "duration": 172,
    "start_time": "2024-09-26T18:59:59.517Z"
   },
   {
    "duration": 13,
    "start_time": "2024-09-26T19:00:16.784Z"
   },
   {
    "duration": 749,
    "start_time": "2024-09-26T19:00:23.987Z"
   },
   {
    "duration": 147,
    "start_time": "2024-09-26T19:00:24.738Z"
   },
   {
    "duration": 7,
    "start_time": "2024-09-26T19:00:24.886Z"
   },
   {
    "duration": 3,
    "start_time": "2024-09-26T19:00:24.894Z"
   },
   {
    "duration": 5,
    "start_time": "2024-09-26T19:00:24.900Z"
   },
   {
    "duration": 28,
    "start_time": "2024-09-26T19:00:24.906Z"
   },
   {
    "duration": 10,
    "start_time": "2024-09-26T19:00:24.936Z"
   },
   {
    "duration": 42,
    "start_time": "2024-09-26T19:00:24.948Z"
   },
   {
    "duration": 68,
    "start_time": "2024-09-26T19:00:24.992Z"
   },
   {
    "duration": 42,
    "start_time": "2024-09-26T19:00:25.061Z"
   },
   {
    "duration": 6,
    "start_time": "2024-09-26T19:00:25.106Z"
   },
   {
    "duration": 69,
    "start_time": "2024-09-26T19:00:25.130Z"
   },
   {
    "duration": 7,
    "start_time": "2024-09-26T19:00:25.200Z"
   },
   {
    "duration": 31,
    "start_time": "2024-09-26T19:00:25.211Z"
   },
   {
    "duration": 38,
    "start_time": "2024-09-26T19:00:25.244Z"
   },
   {
    "duration": 9,
    "start_time": "2024-09-26T19:00:25.285Z"
   },
   {
    "duration": 5,
    "start_time": "2024-09-26T19:00:25.295Z"
   },
   {
    "duration": 173,
    "start_time": "2024-09-26T19:00:25.301Z"
   },
   {
    "duration": 15,
    "start_time": "2024-09-26T19:00:25.476Z"
   },
   {
    "duration": 19,
    "start_time": "2024-09-26T19:00:25.493Z"
   },
   {
    "duration": 54,
    "start_time": "2024-09-26T19:00:25.514Z"
   },
   {
    "duration": 7,
    "start_time": "2024-09-26T19:00:25.570Z"
   },
   {
    "duration": 55,
    "start_time": "2024-09-26T19:00:25.579Z"
   },
   {
    "duration": 4,
    "start_time": "2024-09-26T19:00:25.636Z"
   },
   {
    "duration": 7,
    "start_time": "2024-09-26T19:00:25.642Z"
   },
   {
    "duration": 8,
    "start_time": "2024-09-26T19:00:25.651Z"
   },
   {
    "duration": 5,
    "start_time": "2024-09-26T19:00:25.661Z"
   },
   {
    "duration": 25,
    "start_time": "2024-09-26T19:00:25.667Z"
   },
   {
    "duration": 4,
    "start_time": "2024-09-26T19:00:25.731Z"
   },
   {
    "duration": 804,
    "start_time": "2024-09-26T19:00:44.647Z"
   },
   {
    "duration": 141,
    "start_time": "2024-09-26T19:00:45.453Z"
   },
   {
    "duration": 7,
    "start_time": "2024-09-26T19:00:45.596Z"
   },
   {
    "duration": 2,
    "start_time": "2024-09-26T19:00:45.606Z"
   },
   {
    "duration": 5,
    "start_time": "2024-09-26T19:00:45.610Z"
   },
   {
    "duration": 15,
    "start_time": "2024-09-26T19:00:45.631Z"
   },
   {
    "duration": 11,
    "start_time": "2024-09-26T19:00:45.648Z"
   },
   {
    "duration": 42,
    "start_time": "2024-09-26T19:00:45.661Z"
   },
   {
    "duration": 68,
    "start_time": "2024-09-26T19:00:45.705Z"
   },
   {
    "duration": 43,
    "start_time": "2024-09-26T19:00:45.778Z"
   },
   {
    "duration": 10,
    "start_time": "2024-09-26T19:00:45.822Z"
   },
   {
    "duration": 65,
    "start_time": "2024-09-26T19:00:45.834Z"
   },
   {
    "duration": 7,
    "start_time": "2024-09-26T19:00:45.901Z"
   },
   {
    "duration": 39,
    "start_time": "2024-09-26T19:00:45.909Z"
   },
   {
    "duration": 38,
    "start_time": "2024-09-26T19:00:45.950Z"
   },
   {
    "duration": 8,
    "start_time": "2024-09-26T19:00:45.989Z"
   },
   {
    "duration": 5,
    "start_time": "2024-09-26T19:00:45.999Z"
   },
   {
    "duration": 176,
    "start_time": "2024-09-26T19:00:46.005Z"
   },
   {
    "duration": 15,
    "start_time": "2024-09-26T19:00:46.183Z"
   },
   {
    "duration": 31,
    "start_time": "2024-09-26T19:00:46.200Z"
   },
   {
    "duration": 37,
    "start_time": "2024-09-26T19:00:46.233Z"
   },
   {
    "duration": 7,
    "start_time": "2024-09-26T19:00:46.271Z"
   },
   {
    "duration": 58,
    "start_time": "2024-09-26T19:00:46.280Z"
   },
   {
    "duration": 4,
    "start_time": "2024-09-26T19:00:46.340Z"
   },
   {
    "duration": 7,
    "start_time": "2024-09-26T19:00:46.346Z"
   },
   {
    "duration": 8,
    "start_time": "2024-09-26T19:00:46.355Z"
   },
   {
    "duration": 4,
    "start_time": "2024-09-26T19:00:46.364Z"
   },
   {
    "duration": 26,
    "start_time": "2024-09-26T19:00:46.372Z"
   },
   {
    "duration": 2,
    "start_time": "2024-09-26T19:00:46.400Z"
   },
   {
    "duration": 4,
    "start_time": "2024-09-26T19:00:46.432Z"
   },
   {
    "duration": 4,
    "start_time": "2024-09-26T19:00:46.439Z"
   },
   {
    "duration": 777,
    "start_time": "2024-09-26T19:04:51.073Z"
   },
   {
    "duration": 144,
    "start_time": "2024-09-26T19:04:51.852Z"
   },
   {
    "duration": 6,
    "start_time": "2024-09-26T19:04:51.998Z"
   },
   {
    "duration": 2,
    "start_time": "2024-09-26T19:04:52.006Z"
   },
   {
    "duration": 4,
    "start_time": "2024-09-26T19:04:52.010Z"
   },
   {
    "duration": 29,
    "start_time": "2024-09-26T19:04:52.016Z"
   },
   {
    "duration": 11,
    "start_time": "2024-09-26T19:04:52.047Z"
   },
   {
    "duration": 44,
    "start_time": "2024-09-26T19:04:52.060Z"
   },
   {
    "duration": 69,
    "start_time": "2024-09-26T19:04:52.106Z"
   },
   {
    "duration": 52,
    "start_time": "2024-09-26T19:04:52.179Z"
   },
   {
    "duration": 6,
    "start_time": "2024-09-26T19:04:52.232Z"
   },
   {
    "duration": 69,
    "start_time": "2024-09-26T19:04:52.240Z"
   },
   {
    "duration": 22,
    "start_time": "2024-09-26T19:04:52.311Z"
   },
   {
    "duration": 19,
    "start_time": "2024-09-26T19:04:52.335Z"
   },
   {
    "duration": 40,
    "start_time": "2024-09-26T19:04:52.356Z"
   },
   {
    "duration": 8,
    "start_time": "2024-09-26T19:04:52.398Z"
   },
   {
    "duration": 26,
    "start_time": "2024-09-26T19:04:52.408Z"
   },
   {
    "duration": 169,
    "start_time": "2024-09-26T19:04:52.436Z"
   },
   {
    "duration": 24,
    "start_time": "2024-09-26T19:04:52.607Z"
   },
   {
    "duration": 19,
    "start_time": "2024-09-26T19:04:52.633Z"
   },
   {
    "duration": 39,
    "start_time": "2024-09-26T19:04:52.654Z"
   },
   {
    "duration": 8,
    "start_time": "2024-09-26T19:04:52.695Z"
   },
   {
    "duration": 60,
    "start_time": "2024-09-26T19:04:52.705Z"
   },
   {
    "duration": 4,
    "start_time": "2024-09-26T19:04:52.767Z"
   },
   {
    "duration": 9,
    "start_time": "2024-09-26T19:04:52.773Z"
   },
   {
    "duration": 7,
    "start_time": "2024-09-26T19:04:52.784Z"
   },
   {
    "duration": 4,
    "start_time": "2024-09-26T19:04:52.793Z"
   },
   {
    "duration": 32,
    "start_time": "2024-09-26T19:04:52.830Z"
   },
   {
    "duration": 4,
    "start_time": "2024-09-26T19:04:52.864Z"
   },
   {
    "duration": 159,
    "start_time": "2024-09-26T19:05:13.356Z"
   },
   {
    "duration": 13,
    "start_time": "2024-09-26T19:05:25.445Z"
   },
   {
    "duration": 753,
    "start_time": "2024-09-26T19:05:32.503Z"
   },
   {
    "duration": 132,
    "start_time": "2024-09-26T19:05:33.258Z"
   },
   {
    "duration": 6,
    "start_time": "2024-09-26T19:05:33.392Z"
   },
   {
    "duration": 2,
    "start_time": "2024-09-26T19:05:33.400Z"
   },
   {
    "duration": 6,
    "start_time": "2024-09-26T19:05:33.406Z"
   },
   {
    "duration": 29,
    "start_time": "2024-09-26T19:05:33.413Z"
   },
   {
    "duration": 11,
    "start_time": "2024-09-26T19:05:33.443Z"
   },
   {
    "duration": 43,
    "start_time": "2024-09-26T19:05:33.455Z"
   },
   {
    "duration": 68,
    "start_time": "2024-09-26T19:05:33.499Z"
   },
   {
    "duration": 42,
    "start_time": "2024-09-26T19:05:33.569Z"
   },
   {
    "duration": 21,
    "start_time": "2024-09-26T19:05:33.612Z"
   },
   {
    "duration": 65,
    "start_time": "2024-09-26T19:05:33.635Z"
   },
   {
    "duration": 6,
    "start_time": "2024-09-26T19:05:33.703Z"
   },
   {
    "duration": 35,
    "start_time": "2024-09-26T19:05:33.713Z"
   },
   {
    "duration": 37,
    "start_time": "2024-09-26T19:05:33.749Z"
   },
   {
    "duration": 9,
    "start_time": "2024-09-26T19:05:33.788Z"
   },
   {
    "duration": 5,
    "start_time": "2024-09-26T19:05:33.798Z"
   },
   {
    "duration": 178,
    "start_time": "2024-09-26T19:05:33.804Z"
   },
   {
    "duration": 17,
    "start_time": "2024-09-26T19:05:33.983Z"
   },
   {
    "duration": 35,
    "start_time": "2024-09-26T19:05:34.001Z"
   },
   {
    "duration": 38,
    "start_time": "2024-09-26T19:05:34.039Z"
   },
   {
    "duration": 8,
    "start_time": "2024-09-26T19:05:34.079Z"
   },
   {
    "duration": 55,
    "start_time": "2024-09-26T19:05:34.089Z"
   },
   {
    "duration": 4,
    "start_time": "2024-09-26T19:05:34.146Z"
   },
   {
    "duration": 7,
    "start_time": "2024-09-26T19:05:34.152Z"
   },
   {
    "duration": 7,
    "start_time": "2024-09-26T19:05:34.162Z"
   },
   {
    "duration": 5,
    "start_time": "2024-09-26T19:05:34.171Z"
   },
   {
    "duration": 56,
    "start_time": "2024-09-26T19:05:34.177Z"
   },
   {
    "duration": 5,
    "start_time": "2024-09-26T19:05:34.234Z"
   },
   {
    "duration": 779,
    "start_time": "2024-09-26T19:06:00.554Z"
   },
   {
    "duration": 126,
    "start_time": "2024-09-26T19:06:01.335Z"
   },
   {
    "duration": 7,
    "start_time": "2024-09-26T19:06:01.463Z"
   },
   {
    "duration": 3,
    "start_time": "2024-09-26T19:06:01.472Z"
   },
   {
    "duration": 5,
    "start_time": "2024-09-26T19:06:01.476Z"
   },
   {
    "duration": 14,
    "start_time": "2024-09-26T19:06:01.483Z"
   },
   {
    "duration": 11,
    "start_time": "2024-09-26T19:06:01.499Z"
   },
   {
    "duration": 41,
    "start_time": "2024-09-26T19:06:01.532Z"
   },
   {
    "duration": 61,
    "start_time": "2024-09-26T19:06:01.575Z"
   },
   {
    "duration": 40,
    "start_time": "2024-09-26T19:06:01.639Z"
   },
   {
    "duration": 5,
    "start_time": "2024-09-26T19:06:01.681Z"
   },
   {
    "duration": 89,
    "start_time": "2024-09-26T19:06:01.688Z"
   },
   {
    "duration": 8,
    "start_time": "2024-09-26T19:06:01.781Z"
   },
   {
    "duration": 19,
    "start_time": "2024-09-26T19:06:01.791Z"
   },
   {
    "duration": 54,
    "start_time": "2024-09-26T19:06:01.812Z"
   },
   {
    "duration": 8,
    "start_time": "2024-09-26T19:06:01.869Z"
   },
   {
    "duration": 6,
    "start_time": "2024-09-26T19:06:01.879Z"
   },
   {
    "duration": 174,
    "start_time": "2024-09-26T19:06:01.887Z"
   },
   {
    "duration": 16,
    "start_time": "2024-09-26T19:06:02.063Z"
   },
   {
    "duration": 19,
    "start_time": "2024-09-26T19:06:02.081Z"
   },
   {
    "duration": 62,
    "start_time": "2024-09-26T19:06:02.102Z"
   },
   {
    "duration": 7,
    "start_time": "2024-09-26T19:06:02.166Z"
   },
   {
    "duration": 56,
    "start_time": "2024-09-26T19:06:02.174Z"
   },
   {
    "duration": 5,
    "start_time": "2024-09-26T19:06:02.232Z"
   },
   {
    "duration": 6,
    "start_time": "2024-09-26T19:06:02.239Z"
   },
   {
    "duration": 7,
    "start_time": "2024-09-26T19:06:02.247Z"
   },
   {
    "duration": 4,
    "start_time": "2024-09-26T19:06:02.256Z"
   },
   {
    "duration": 25,
    "start_time": "2024-09-26T19:06:02.263Z"
   },
   {
    "duration": 3,
    "start_time": "2024-09-26T19:06:02.290Z"
   },
   {
    "duration": 789,
    "start_time": "2024-09-26T19:06:28.155Z"
   },
   {
    "duration": 126,
    "start_time": "2024-09-26T19:06:28.946Z"
   },
   {
    "duration": 6,
    "start_time": "2024-09-26T19:06:29.074Z"
   },
   {
    "duration": 3,
    "start_time": "2024-09-26T19:06:29.082Z"
   },
   {
    "duration": 5,
    "start_time": "2024-09-26T19:06:29.087Z"
   },
   {
    "duration": 15,
    "start_time": "2024-09-26T19:06:29.093Z"
   },
   {
    "duration": 27,
    "start_time": "2024-09-26T19:06:29.109Z"
   },
   {
    "duration": 41,
    "start_time": "2024-09-26T19:06:29.138Z"
   },
   {
    "duration": 64,
    "start_time": "2024-09-26T19:06:29.181Z"
   },
   {
    "duration": 40,
    "start_time": "2024-09-26T19:06:29.247Z"
   },
   {
    "duration": 5,
    "start_time": "2024-09-26T19:06:29.289Z"
   },
   {
    "duration": 94,
    "start_time": "2024-09-26T19:06:29.296Z"
   },
   {
    "duration": 7,
    "start_time": "2024-09-26T19:06:29.391Z"
   },
   {
    "duration": 29,
    "start_time": "2024-09-26T19:06:29.402Z"
   },
   {
    "duration": 37,
    "start_time": "2024-09-26T19:06:29.433Z"
   },
   {
    "duration": 9,
    "start_time": "2024-09-26T19:06:29.471Z"
   },
   {
    "duration": 6,
    "start_time": "2024-09-26T19:06:29.481Z"
   },
   {
    "duration": 173,
    "start_time": "2024-09-26T19:06:29.488Z"
   },
   {
    "duration": 17,
    "start_time": "2024-09-26T19:06:29.662Z"
   },
   {
    "duration": 19,
    "start_time": "2024-09-26T19:06:29.680Z"
   },
   {
    "duration": 58,
    "start_time": "2024-09-26T19:06:29.700Z"
   },
   {
    "duration": 7,
    "start_time": "2024-09-26T19:06:29.759Z"
   },
   {
    "duration": 39,
    "start_time": "2024-09-26T19:06:29.767Z"
   },
   {
    "duration": 4,
    "start_time": "2024-09-26T19:06:29.808Z"
   },
   {
    "duration": 24,
    "start_time": "2024-09-26T19:06:29.813Z"
   },
   {
    "duration": 8,
    "start_time": "2024-09-26T19:06:29.839Z"
   },
   {
    "duration": 4,
    "start_time": "2024-09-26T19:06:29.849Z"
   },
   {
    "duration": 24,
    "start_time": "2024-09-26T19:06:29.855Z"
   },
   {
    "duration": 3,
    "start_time": "2024-09-26T19:06:29.881Z"
   },
   {
    "duration": 740,
    "start_time": "2024-09-26T19:07:02.720Z"
   },
   {
    "duration": 132,
    "start_time": "2024-09-26T19:07:03.462Z"
   },
   {
    "duration": 7,
    "start_time": "2024-09-26T19:07:03.595Z"
   },
   {
    "duration": 2,
    "start_time": "2024-09-26T19:07:03.605Z"
   },
   {
    "duration": 5,
    "start_time": "2024-09-26T19:07:03.609Z"
   },
   {
    "duration": 24,
    "start_time": "2024-09-26T19:07:03.616Z"
   },
   {
    "duration": 10,
    "start_time": "2024-09-26T19:07:03.641Z"
   },
   {
    "duration": 43,
    "start_time": "2024-09-26T19:07:03.654Z"
   },
   {
    "duration": 64,
    "start_time": "2024-09-26T19:07:03.698Z"
   },
   {
    "duration": 41,
    "start_time": "2024-09-26T19:07:03.765Z"
   },
   {
    "duration": 5,
    "start_time": "2024-09-26T19:07:03.808Z"
   },
   {
    "duration": 67,
    "start_time": "2024-09-26T19:07:03.831Z"
   },
   {
    "duration": 7,
    "start_time": "2024-09-26T19:07:03.899Z"
   },
   {
    "duration": 37,
    "start_time": "2024-09-26T19:07:03.908Z"
   },
   {
    "duration": 36,
    "start_time": "2024-09-26T19:07:03.946Z"
   },
   {
    "duration": 7,
    "start_time": "2024-09-26T19:07:03.984Z"
   },
   {
    "duration": 6,
    "start_time": "2024-09-26T19:07:03.993Z"
   },
   {
    "duration": 175,
    "start_time": "2024-09-26T19:07:04.001Z"
   },
   {
    "duration": 17,
    "start_time": "2024-09-26T19:07:04.178Z"
   },
   {
    "duration": 35,
    "start_time": "2024-09-26T19:07:04.196Z"
   },
   {
    "duration": 38,
    "start_time": "2024-09-26T19:07:04.233Z"
   },
   {
    "duration": 7,
    "start_time": "2024-09-26T19:07:04.273Z"
   },
   {
    "duration": 61,
    "start_time": "2024-09-26T19:07:04.282Z"
   },
   {
    "duration": 4,
    "start_time": "2024-09-26T19:07:04.345Z"
   },
   {
    "duration": 8,
    "start_time": "2024-09-26T19:07:04.351Z"
   },
   {
    "duration": 7,
    "start_time": "2024-09-26T19:07:04.362Z"
   },
   {
    "duration": 5,
    "start_time": "2024-09-26T19:07:04.371Z"
   },
   {
    "duration": 57,
    "start_time": "2024-09-26T19:07:04.380Z"
   },
   {
    "duration": 4,
    "start_time": "2024-09-26T19:07:04.439Z"
   },
   {
    "duration": 311,
    "start_time": "2024-09-26T19:07:04.445Z"
   },
   {
    "duration": 0,
    "start_time": "2024-09-26T19:07:04.758Z"
   },
   {
    "duration": 29,
    "start_time": "2024-09-26T19:07:21.283Z"
   },
   {
    "duration": 28,
    "start_time": "2024-09-26T19:08:57.077Z"
   },
   {
    "duration": 13,
    "start_time": "2024-09-26T19:09:34.412Z"
   },
   {
    "duration": 54,
    "start_time": "2024-09-26T19:12:33.670Z"
   },
   {
    "duration": 40,
    "start_time": "2024-09-26T19:12:45.612Z"
   },
   {
    "duration": 38,
    "start_time": "2024-09-26T19:13:26.761Z"
   },
   {
    "duration": 27,
    "start_time": "2024-09-26T19:13:54.384Z"
   },
   {
    "duration": 35,
    "start_time": "2024-09-26T19:18:18.907Z"
   },
   {
    "duration": 39,
    "start_time": "2024-09-26T19:19:07.990Z"
   },
   {
    "duration": 42,
    "start_time": "2024-09-26T19:22:28.344Z"
   },
   {
    "duration": 28,
    "start_time": "2024-09-26T19:24:39.965Z"
   },
   {
    "duration": 26,
    "start_time": "2024-09-26T19:28:31.407Z"
   },
   {
    "duration": 36,
    "start_time": "2024-09-26T20:14:07.319Z"
   },
   {
    "duration": 33,
    "start_time": "2024-09-26T20:14:31.149Z"
   },
   {
    "duration": 35,
    "start_time": "2024-09-26T20:27:15.187Z"
   },
   {
    "duration": 55,
    "start_time": "2024-09-26T20:30:46.430Z"
   },
   {
    "duration": 40,
    "start_time": "2024-09-26T20:31:12.423Z"
   },
   {
    "duration": 135,
    "start_time": "2024-09-26T20:34:50.530Z"
   },
   {
    "duration": 125,
    "start_time": "2024-09-26T20:41:35.987Z"
   },
   {
    "duration": 123,
    "start_time": "2024-09-26T20:41:42.729Z"
   },
   {
    "duration": 120,
    "start_time": "2024-09-26T20:43:16.456Z"
   },
   {
    "duration": 125,
    "start_time": "2024-09-26T20:50:42.043Z"
   },
   {
    "duration": 130,
    "start_time": "2024-09-26T20:50:56.993Z"
   },
   {
    "duration": 121,
    "start_time": "2024-09-26T20:51:01.388Z"
   },
   {
    "duration": 126,
    "start_time": "2024-09-26T20:52:14.067Z"
   },
   {
    "duration": 123,
    "start_time": "2024-09-26T20:53:16.697Z"
   },
   {
    "duration": 127,
    "start_time": "2024-09-26T20:53:17.694Z"
   },
   {
    "duration": 4,
    "start_time": "2024-09-26T20:53:50.933Z"
   },
   {
    "duration": 4,
    "start_time": "2024-09-26T20:55:26.129Z"
   },
   {
    "duration": 10,
    "start_time": "2024-09-27T02:45:05.785Z"
   },
   {
    "duration": 4,
    "start_time": "2024-09-27T02:51:34.123Z"
   }
  ],
  "kernelspec": {
   "display_name": "Python 3 (ipykernel)",
   "language": "python",
   "name": "python3"
  },
  "language_info": {
   "codemirror_mode": {
    "name": "ipython",
    "version": 3
   },
   "file_extension": ".py",
   "mimetype": "text/x-python",
   "name": "python",
   "nbconvert_exporter": "python",
   "pygments_lexer": "ipython3",
   "version": "3.9.19"
  },
  "toc": {
   "base_numbering": 1,
   "nav_menu": {},
   "number_sections": true,
   "sideBar": true,
   "skip_h1_title": true,
   "title_cell": "Table of Contents",
   "title_sidebar": "Contents",
   "toc_cell": false,
   "toc_position": {},
   "toc_section_display": true,
   "toc_window_display": false
  }
 },
 "nbformat": 4,
 "nbformat_minor": 2
}
